{
 "cells": [
  {
   "cell_type": "code",
   "execution_count": 2,
   "id": "d38f1bb9",
   "metadata": {
    "collapsed": true,
    "jupyter": {
     "outputs_hidden": true
    }
   },
   "outputs": [
    {
     "name": "stdout",
     "output_type": "stream",
     "text": [
      "Requirement already satisfied: python-dotenv in /home/ec2-user/SageMaker/.persisted_conda/persona_identifier/lib/python3.9/site-packages (from -r requirements.txt (line 1)) (1.0.1)\n",
      "Requirement already satisfied: langchain in /home/ec2-user/SageMaker/.persisted_conda/persona_identifier/lib/python3.9/site-packages (from -r requirements.txt (line 2)) (0.3.18)\n",
      "Requirement already satisfied: langgraph in /home/ec2-user/SageMaker/.persisted_conda/persona_identifier/lib/python3.9/site-packages (from -r requirements.txt (line 3)) (0.2.70)\n",
      "Requirement already satisfied: streamlit in /home/ec2-user/SageMaker/.persisted_conda/persona_identifier/lib/python3.9/site-packages (from -r requirements.txt (line 4)) (1.27.1)\n",
      "Requirement already satisfied: langchain-community in /home/ec2-user/SageMaker/.persisted_conda/persona_identifier/lib/python3.9/site-packages (from -r requirements.txt (line 5)) (0.3.17)\n",
      "Requirement already satisfied: langchain-aws in /home/ec2-user/SageMaker/.persisted_conda/persona_identifier/lib/python3.9/site-packages (from -r requirements.txt (line 6)) (0.2.12)\n",
      "Requirement already satisfied: boto3 in /home/ec2-user/SageMaker/.persisted_conda/persona_identifier/lib/python3.9/site-packages (from -r requirements.txt (line 7)) (1.36.16)\n",
      "Collecting python-multipart (from -r requirements.txt (line 8))\n",
      "  Obtaining dependency information for python-multipart from https://files.pythonhosted.org/packages/45/58/38b5afbc1a800eeea951b9285d3912613f2603bdf897a4ab0f4bd7f405fc/python_multipart-0.0.20-py3-none-any.whl.metadata\n",
      "  Downloading python_multipart-0.0.20-py3-none-any.whl.metadata (1.8 kB)\n",
      "Requirement already satisfied: jinja2 in /home/ec2-user/SageMaker/.persisted_conda/persona_identifier/lib/python3.9/site-packages (from -r requirements.txt (line 9)) (3.1.2)\n",
      "Collecting graphviz (from -r requirements.txt (line 10))\n",
      "  Obtaining dependency information for graphviz from https://files.pythonhosted.org/packages/00/be/d59db2d1d52697c6adc9eacaf50e8965b6345cc143f671e1ed068818d5cf/graphviz-0.20.3-py3-none-any.whl.metadata\n",
      "  Downloading graphviz-0.20.3-py3-none-any.whl.metadata (12 kB)\n",
      "Collecting mistralai (from -r requirements.txt (line 11))\n",
      "  Obtaining dependency information for mistralai from https://files.pythonhosted.org/packages/77/b2/7bbf5e3607b04e745548dd8c17863700ca77746ab5e0cfdcac83a74d7afc/mistralai-1.6.0-py3-none-any.whl.metadata\n",
      "  Downloading mistralai-1.6.0-py3-none-any.whl.metadata (30 kB)\n",
      "Requirement already satisfied: langchain-core<1.0.0,>=0.3.34 in /home/ec2-user/SageMaker/.persisted_conda/persona_identifier/lib/python3.9/site-packages (from langchain->-r requirements.txt (line 2)) (0.3.43)\n",
      "Requirement already satisfied: langchain-text-splitters<1.0.0,>=0.3.6 in /home/ec2-user/SageMaker/.persisted_conda/persona_identifier/lib/python3.9/site-packages (from langchain->-r requirements.txt (line 2)) (0.3.6)\n",
      "Requirement already satisfied: langsmith<0.4,>=0.1.17 in /home/ec2-user/SageMaker/.persisted_conda/persona_identifier/lib/python3.9/site-packages (from langchain->-r requirements.txt (line 2)) (0.3.8)\n",
      "Requirement already satisfied: pydantic<3.0.0,>=2.7.4 in /home/ec2-user/SageMaker/.persisted_conda/persona_identifier/lib/python3.9/site-packages (from langchain->-r requirements.txt (line 2)) (2.10.6)\n",
      "Requirement already satisfied: SQLAlchemy<3,>=1.4 in /home/ec2-user/SageMaker/.persisted_conda/persona_identifier/lib/python3.9/site-packages (from langchain->-r requirements.txt (line 2)) (2.0.38)\n",
      "Requirement already satisfied: requests<3,>=2 in /home/ec2-user/SageMaker/.persisted_conda/persona_identifier/lib/python3.9/site-packages (from langchain->-r requirements.txt (line 2)) (2.31.0)\n",
      "Requirement already satisfied: PyYAML>=5.3 in /home/ec2-user/SageMaker/.persisted_conda/persona_identifier/lib/python3.9/site-packages (from langchain->-r requirements.txt (line 2)) (6.0.1)\n",
      "Requirement already satisfied: aiohttp<4.0.0,>=3.8.3 in /home/ec2-user/SageMaker/.persisted_conda/persona_identifier/lib/python3.9/site-packages (from langchain->-r requirements.txt (line 2)) (3.8.5)\n",
      "Requirement already satisfied: tenacity!=8.4.0,<10,>=8.1.0 in /home/ec2-user/SageMaker/.persisted_conda/persona_identifier/lib/python3.9/site-packages (from langchain->-r requirements.txt (line 2)) (8.2.3)\n",
      "Requirement already satisfied: numpy<2,>=1.26.4 in /home/ec2-user/SageMaker/.persisted_conda/persona_identifier/lib/python3.9/site-packages (from langchain->-r requirements.txt (line 2)) (1.26.4)\n",
      "Requirement already satisfied: async-timeout<5.0.0,>=4.0.0 in /home/ec2-user/SageMaker/.persisted_conda/persona_identifier/lib/python3.9/site-packages (from langchain->-r requirements.txt (line 2)) (4.0.3)\n",
      "Requirement already satisfied: langgraph-checkpoint<3.0.0,>=2.0.10 in /home/ec2-user/SageMaker/.persisted_conda/persona_identifier/lib/python3.9/site-packages (from langgraph->-r requirements.txt (line 3)) (2.0.12)\n",
      "Requirement already satisfied: langgraph-sdk<0.2.0,>=0.1.42 in /home/ec2-user/SageMaker/.persisted_conda/persona_identifier/lib/python3.9/site-packages (from langgraph->-r requirements.txt (line 3)) (0.1.51)\n",
      "Requirement already satisfied: altair<6,>=4.0 in /home/ec2-user/SageMaker/.persisted_conda/persona_identifier/lib/python3.9/site-packages (from streamlit->-r requirements.txt (line 4)) (5.1.1)\n",
      "Requirement already satisfied: blinker<2,>=1.0.0 in /home/ec2-user/SageMaker/.persisted_conda/persona_identifier/lib/python3.9/site-packages (from streamlit->-r requirements.txt (line 4)) (1.6.2)\n",
      "Requirement already satisfied: cachetools<6,>=4.0 in /home/ec2-user/SageMaker/.persisted_conda/persona_identifier/lib/python3.9/site-packages (from streamlit->-r requirements.txt (line 4)) (5.3.1)\n",
      "Requirement already satisfied: click<9,>=7.0 in /home/ec2-user/SageMaker/.persisted_conda/persona_identifier/lib/python3.9/site-packages (from streamlit->-r requirements.txt (line 4)) (8.1.7)\n",
      "Requirement already satisfied: importlib-metadata<7,>=1.4 in /home/ec2-user/SageMaker/.persisted_conda/persona_identifier/lib/python3.9/site-packages (from streamlit->-r requirements.txt (line 4)) (6.8.0)\n",
      "Requirement already satisfied: packaging<24,>=16.8 in /home/ec2-user/SageMaker/.persisted_conda/persona_identifier/lib/python3.9/site-packages (from streamlit->-r requirements.txt (line 4)) (23.2)\n",
      "Requirement already satisfied: pandas<3,>=1.3.0 in /home/ec2-user/SageMaker/.persisted_conda/persona_identifier/lib/python3.9/site-packages (from streamlit->-r requirements.txt (line 4)) (1.3.5)\n",
      "Requirement already satisfied: pillow<11,>=7.1.0 in /home/ec2-user/SageMaker/.persisted_conda/persona_identifier/lib/python3.9/site-packages (from streamlit->-r requirements.txt (line 4)) (10.0.1)\n",
      "Requirement already satisfied: protobuf<5,>=3.20 in /home/ec2-user/SageMaker/.persisted_conda/persona_identifier/lib/python3.9/site-packages (from streamlit->-r requirements.txt (line 4)) (4.24.3)\n",
      "Requirement already satisfied: pyarrow>=6.0 in /home/ec2-user/SageMaker/.persisted_conda/persona_identifier/lib/python3.9/site-packages (from streamlit->-r requirements.txt (line 4)) (13.0.0)\n",
      "Requirement already satisfied: python-dateutil<3,>=2.7.3 in /home/ec2-user/SageMaker/.persisted_conda/persona_identifier/lib/python3.9/site-packages (from streamlit->-r requirements.txt (line 4)) (2.8.2)\n",
      "Requirement already satisfied: rich<14,>=10.14.0 in /home/ec2-user/SageMaker/.persisted_conda/persona_identifier/lib/python3.9/site-packages (from streamlit->-r requirements.txt (line 4)) (13.5.2)\n",
      "Requirement already satisfied: toml<2,>=0.10.1 in /home/ec2-user/SageMaker/.persisted_conda/persona_identifier/lib/python3.9/site-packages (from streamlit->-r requirements.txt (line 4)) (0.10.2)\n",
      "Requirement already satisfied: typing-extensions<5,>=4.1.0 in /home/ec2-user/SageMaker/.persisted_conda/persona_identifier/lib/python3.9/site-packages (from streamlit->-r requirements.txt (line 4)) (4.12.2)\n",
      "Requirement already satisfied: tzlocal<6,>=1.1 in /home/ec2-user/SageMaker/.persisted_conda/persona_identifier/lib/python3.9/site-packages (from streamlit->-r requirements.txt (line 4)) (5.0.1)\n",
      "Requirement already satisfied: validators<1,>=0.2 in /home/ec2-user/SageMaker/.persisted_conda/persona_identifier/lib/python3.9/site-packages (from streamlit->-r requirements.txt (line 4)) (0.22.0)\n",
      "Requirement already satisfied: gitpython!=3.1.19,<4,>=3.0.7 in /home/ec2-user/SageMaker/.persisted_conda/persona_identifier/lib/python3.9/site-packages (from streamlit->-r requirements.txt (line 4)) (3.1.32)\n",
      "Requirement already satisfied: pydeck<1,>=0.8.0b4 in /home/ec2-user/SageMaker/.persisted_conda/persona_identifier/lib/python3.9/site-packages (from streamlit->-r requirements.txt (line 4)) (0.8.1b0)\n",
      "Requirement already satisfied: tornado<7,>=6.0.3 in /home/ec2-user/SageMaker/.persisted_conda/persona_identifier/lib/python3.9/site-packages (from streamlit->-r requirements.txt (line 4)) (6.3.3)\n",
      "Requirement already satisfied: watchdog>=2.1.5 in /home/ec2-user/SageMaker/.persisted_conda/persona_identifier/lib/python3.9/site-packages (from streamlit->-r requirements.txt (line 4)) (3.0.0)\n",
      "Requirement already satisfied: dataclasses-json<0.7,>=0.5.7 in /home/ec2-user/SageMaker/.persisted_conda/persona_identifier/lib/python3.9/site-packages (from langchain-community->-r requirements.txt (line 5)) (0.6.7)\n",
      "Requirement already satisfied: pydantic-settings<3.0.0,>=2.4.0 in /home/ec2-user/SageMaker/.persisted_conda/persona_identifier/lib/python3.9/site-packages (from langchain-community->-r requirements.txt (line 5)) (2.7.1)\n",
      "Requirement already satisfied: httpx-sse<1.0.0,>=0.4.0 in /home/ec2-user/SageMaker/.persisted_conda/persona_identifier/lib/python3.9/site-packages (from langchain-community->-r requirements.txt (line 5)) (0.4.0)\n",
      "Requirement already satisfied: botocore<1.37.0,>=1.36.16 in /home/ec2-user/SageMaker/.persisted_conda/persona_identifier/lib/python3.9/site-packages (from boto3->-r requirements.txt (line 7)) (1.36.16)\n",
      "Requirement already satisfied: jmespath<2.0.0,>=0.7.1 in /home/ec2-user/SageMaker/.persisted_conda/persona_identifier/lib/python3.9/site-packages (from boto3->-r requirements.txt (line 7)) (1.0.1)\n",
      "Requirement already satisfied: s3transfer<0.12.0,>=0.11.0 in /home/ec2-user/SageMaker/.persisted_conda/persona_identifier/lib/python3.9/site-packages (from boto3->-r requirements.txt (line 7)) (0.11.2)\n",
      "Requirement already satisfied: MarkupSafe>=2.0 in /home/ec2-user/SageMaker/.persisted_conda/persona_identifier/lib/python3.9/site-packages (from jinja2->-r requirements.txt (line 9)) (2.1.3)\n",
      "Collecting eval-type-backport>=0.2.0 (from mistralai->-r requirements.txt (line 11))\n",
      "  Obtaining dependency information for eval-type-backport>=0.2.0 from https://files.pythonhosted.org/packages/ce/31/55cd413eaccd39125368be33c46de24a1f639f2e12349b0361b4678f3915/eval_type_backport-0.2.2-py3-none-any.whl.metadata\n",
      "  Downloading eval_type_backport-0.2.2-py3-none-any.whl.metadata (2.2 kB)\n",
      "Requirement already satisfied: httpx>=0.28.1 in /home/ec2-user/SageMaker/.persisted_conda/persona_identifier/lib/python3.9/site-packages (from mistralai->-r requirements.txt (line 11)) (0.28.1)\n",
      "Collecting typing-inspection>=0.4.0 (from mistralai->-r requirements.txt (line 11))\n",
      "  Obtaining dependency information for typing-inspection>=0.4.0 from https://files.pythonhosted.org/packages/31/08/aa4fdfb71f7de5176385bd9e90852eaf6b5d622735020ad600f2bab54385/typing_inspection-0.4.0-py3-none-any.whl.metadata\n",
      "  Downloading typing_inspection-0.4.0-py3-none-any.whl.metadata (2.6 kB)\n",
      "Requirement already satisfied: attrs>=17.3.0 in /home/ec2-user/SageMaker/.persisted_conda/persona_identifier/lib/python3.9/site-packages (from aiohttp<4.0.0,>=3.8.3->langchain->-r requirements.txt (line 2)) (23.1.0)\n",
      "Requirement already satisfied: charset-normalizer<4.0,>=2.0 in /home/ec2-user/SageMaker/.persisted_conda/persona_identifier/lib/python3.9/site-packages (from aiohttp<4.0.0,>=3.8.3->langchain->-r requirements.txt (line 2)) (3.2.0)\n",
      "Requirement already satisfied: multidict<7.0,>=4.5 in /home/ec2-user/SageMaker/.persisted_conda/persona_identifier/lib/python3.9/site-packages (from aiohttp<4.0.0,>=3.8.3->langchain->-r requirements.txt (line 2)) (6.0.4)\n",
      "Requirement already satisfied: yarl<2.0,>=1.0 in /home/ec2-user/SageMaker/.persisted_conda/persona_identifier/lib/python3.9/site-packages (from aiohttp<4.0.0,>=3.8.3->langchain->-r requirements.txt (line 2)) (1.9.2)\n",
      "Requirement already satisfied: frozenlist>=1.1.1 in /home/ec2-user/SageMaker/.persisted_conda/persona_identifier/lib/python3.9/site-packages (from aiohttp<4.0.0,>=3.8.3->langchain->-r requirements.txt (line 2)) (1.4.0)\n",
      "Requirement already satisfied: aiosignal>=1.1.2 in /home/ec2-user/SageMaker/.persisted_conda/persona_identifier/lib/python3.9/site-packages (from aiohttp<4.0.0,>=3.8.3->langchain->-r requirements.txt (line 2)) (1.3.1)\n",
      "Requirement already satisfied: jsonschema>=3.0 in /home/ec2-user/SageMaker/.persisted_conda/persona_identifier/lib/python3.9/site-packages (from altair<6,>=4.0->streamlit->-r requirements.txt (line 4)) (4.23.0)\n",
      "Requirement already satisfied: toolz in /home/ec2-user/SageMaker/.persisted_conda/persona_identifier/lib/python3.9/site-packages (from altair<6,>=4.0->streamlit->-r requirements.txt (line 4)) (0.12.0)\n",
      "Requirement already satisfied: urllib3<1.27,>=1.25.4 in /home/ec2-user/SageMaker/.persisted_conda/persona_identifier/lib/python3.9/site-packages (from botocore<1.37.0,>=1.36.16->boto3->-r requirements.txt (line 7)) (1.26.16)\n",
      "Requirement already satisfied: marshmallow<4.0.0,>=3.18.0 in /home/ec2-user/SageMaker/.persisted_conda/persona_identifier/lib/python3.9/site-packages (from dataclasses-json<0.7,>=0.5.7->langchain-community->-r requirements.txt (line 5)) (3.26.1)\n",
      "Requirement already satisfied: typing-inspect<1,>=0.4.0 in /home/ec2-user/SageMaker/.persisted_conda/persona_identifier/lib/python3.9/site-packages (from dataclasses-json<0.7,>=0.5.7->langchain-community->-r requirements.txt (line 5)) (0.9.0)\n",
      "Requirement already satisfied: gitdb<5,>=4.0.1 in /home/ec2-user/SageMaker/.persisted_conda/persona_identifier/lib/python3.9/site-packages (from gitpython!=3.1.19,<4,>=3.0.7->streamlit->-r requirements.txt (line 4)) (4.0.10)\n",
      "Requirement already satisfied: anyio in /home/ec2-user/SageMaker/.persisted_conda/persona_identifier/lib/python3.9/site-packages (from httpx>=0.28.1->mistralai->-r requirements.txt (line 11)) (3.7.1)\n",
      "Requirement already satisfied: certifi in /home/ec2-user/SageMaker/.persisted_conda/persona_identifier/lib/python3.9/site-packages (from httpx>=0.28.1->mistralai->-r requirements.txt (line 11)) (2023.7.22)\n",
      "Requirement already satisfied: httpcore==1.* in /home/ec2-user/SageMaker/.persisted_conda/persona_identifier/lib/python3.9/site-packages (from httpx>=0.28.1->mistralai->-r requirements.txt (line 11)) (1.0.7)\n",
      "Requirement already satisfied: idna in /home/ec2-user/SageMaker/.persisted_conda/persona_identifier/lib/python3.9/site-packages (from httpx>=0.28.1->mistralai->-r requirements.txt (line 11)) (3.4)\n",
      "Requirement already satisfied: h11<0.15,>=0.13 in /home/ec2-user/SageMaker/.persisted_conda/persona_identifier/lib/python3.9/site-packages (from httpcore==1.*->httpx>=0.28.1->mistralai->-r requirements.txt (line 11)) (0.14.0)\n",
      "Requirement already satisfied: zipp>=0.5 in /home/ec2-user/SageMaker/.persisted_conda/persona_identifier/lib/python3.9/site-packages (from importlib-metadata<7,>=1.4->streamlit->-r requirements.txt (line 4)) (3.16.2)\n",
      "Requirement already satisfied: jsonpatch<2.0,>=1.33 in /home/ec2-user/SageMaker/.persisted_conda/persona_identifier/lib/python3.9/site-packages (from langchain-core<1.0.0,>=0.3.34->langchain->-r requirements.txt (line 2)) (1.33)\n",
      "Requirement already satisfied: msgpack<2.0.0,>=1.1.0 in /home/ec2-user/SageMaker/.persisted_conda/persona_identifier/lib/python3.9/site-packages (from langgraph-checkpoint<3.0.0,>=2.0.10->langgraph->-r requirements.txt (line 3)) (1.1.0)\n",
      "Requirement already satisfied: orjson>=3.10.1 in /home/ec2-user/SageMaker/.persisted_conda/persona_identifier/lib/python3.9/site-packages (from langgraph-sdk<0.2.0,>=0.1.42->langgraph->-r requirements.txt (line 3)) (3.10.15)\n",
      "Requirement already satisfied: requests-toolbelt<2.0.0,>=1.0.0 in /home/ec2-user/SageMaker/.persisted_conda/persona_identifier/lib/python3.9/site-packages (from langsmith<0.4,>=0.1.17->langchain->-r requirements.txt (line 2)) (1.0.0)\n",
      "Requirement already satisfied: zstandard<0.24.0,>=0.23.0 in /home/ec2-user/SageMaker/.persisted_conda/persona_identifier/lib/python3.9/site-packages (from langsmith<0.4,>=0.1.17->langchain->-r requirements.txt (line 2)) (0.23.0)\n",
      "Requirement already satisfied: pytz>=2017.3 in /home/ec2-user/SageMaker/.persisted_conda/persona_identifier/lib/python3.9/site-packages (from pandas<3,>=1.3.0->streamlit->-r requirements.txt (line 4)) (2023.3)\n",
      "Requirement already satisfied: annotated-types>=0.6.0 in /home/ec2-user/SageMaker/.persisted_conda/persona_identifier/lib/python3.9/site-packages (from pydantic<3.0.0,>=2.7.4->langchain->-r requirements.txt (line 2)) (0.7.0)\n",
      "Requirement already satisfied: pydantic-core==2.27.2 in /home/ec2-user/SageMaker/.persisted_conda/persona_identifier/lib/python3.9/site-packages (from pydantic<3.0.0,>=2.7.4->langchain->-r requirements.txt (line 2)) (2.27.2)\n",
      "Requirement already satisfied: six>=1.5 in /home/ec2-user/SageMaker/.persisted_conda/persona_identifier/lib/python3.9/site-packages (from python-dateutil<3,>=2.7.3->streamlit->-r requirements.txt (line 4)) (1.16.0)\n",
      "Requirement already satisfied: markdown-it-py>=2.2.0 in /home/ec2-user/SageMaker/.persisted_conda/persona_identifier/lib/python3.9/site-packages (from rich<14,>=10.14.0->streamlit->-r requirements.txt (line 4)) (3.0.0)\n",
      "Requirement already satisfied: pygments<3.0.0,>=2.13.0 in /home/ec2-user/SageMaker/.persisted_conda/persona_identifier/lib/python3.9/site-packages (from rich<14,>=10.14.0->streamlit->-r requirements.txt (line 4)) (2.16.1)\n",
      "Requirement already satisfied: greenlet!=0.4.17 in /home/ec2-user/SageMaker/.persisted_conda/persona_identifier/lib/python3.9/site-packages (from SQLAlchemy<3,>=1.4->langchain->-r requirements.txt (line 2)) (3.1.1)\n",
      "Requirement already satisfied: smmap<6,>=3.0.1 in /home/ec2-user/SageMaker/.persisted_conda/persona_identifier/lib/python3.9/site-packages (from gitdb<5,>=4.0.1->gitpython!=3.1.19,<4,>=3.0.7->streamlit->-r requirements.txt (line 4)) (5.0.0)\n",
      "Requirement already satisfied: jsonpointer>=1.9 in /home/ec2-user/SageMaker/.persisted_conda/persona_identifier/lib/python3.9/site-packages (from jsonpatch<2.0,>=1.33->langchain-core<1.0.0,>=0.3.34->langchain->-r requirements.txt (line 2)) (3.0.0)\n",
      "Requirement already satisfied: jsonschema-specifications>=2023.03.6 in /home/ec2-user/SageMaker/.persisted_conda/persona_identifier/lib/python3.9/site-packages (from jsonschema>=3.0->altair<6,>=4.0->streamlit->-r requirements.txt (line 4)) (2023.7.1)\n",
      "Requirement already satisfied: referencing>=0.28.4 in /home/ec2-user/SageMaker/.persisted_conda/persona_identifier/lib/python3.9/site-packages (from jsonschema>=3.0->altair<6,>=4.0->streamlit->-r requirements.txt (line 4)) (0.30.2)\n",
      "Requirement already satisfied: rpds-py>=0.7.1 in /home/ec2-user/SageMaker/.persisted_conda/persona_identifier/lib/python3.9/site-packages (from jsonschema>=3.0->altair<6,>=4.0->streamlit->-r requirements.txt (line 4)) (0.10.3)\n",
      "Requirement already satisfied: mdurl~=0.1 in /home/ec2-user/SageMaker/.persisted_conda/persona_identifier/lib/python3.9/site-packages (from markdown-it-py>=2.2.0->rich<14,>=10.14.0->streamlit->-r requirements.txt (line 4)) (0.1.2)\n",
      "Requirement already satisfied: mypy-extensions>=0.3.0 in /home/ec2-user/SageMaker/.persisted_conda/persona_identifier/lib/python3.9/site-packages (from typing-inspect<1,>=0.4.0->dataclasses-json<0.7,>=0.5.7->langchain-community->-r requirements.txt (line 5)) (1.0.0)\n",
      "Requirement already satisfied: sniffio>=1.1 in /home/ec2-user/SageMaker/.persisted_conda/persona_identifier/lib/python3.9/site-packages (from anyio->httpx>=0.28.1->mistralai->-r requirements.txt (line 11)) (1.3.0)\n",
      "Requirement already satisfied: exceptiongroup in /home/ec2-user/SageMaker/.persisted_conda/persona_identifier/lib/python3.9/site-packages (from anyio->httpx>=0.28.1->mistralai->-r requirements.txt (line 11)) (1.1.3)\n",
      "Downloading python_multipart-0.0.20-py3-none-any.whl (24 kB)\n",
      "Downloading graphviz-0.20.3-py3-none-any.whl (47 kB)\n",
      "\u001b[2K   \u001b[90m━━━━━━━━━━━━━━━━━━━━━━━━━━━━━━━━━━━━━━━━\u001b[0m \u001b[32m47.1/47.1 kB\u001b[0m \u001b[31m11.3 MB/s\u001b[0m eta \u001b[36m0:00:00\u001b[0m\n",
      "\u001b[?25hDownloading mistralai-1.6.0-py3-none-any.whl (288 kB)\n",
      "\u001b[2K   \u001b[90m━━━━━━━━━━━━━━━━━━━━━━━━━━━━━━━━━━━━━━━━\u001b[0m \u001b[32m288.7/288.7 kB\u001b[0m \u001b[31m40.4 MB/s\u001b[0m eta \u001b[36m0:00:00\u001b[0m\n",
      "\u001b[?25hDownloading eval_type_backport-0.2.2-py3-none-any.whl (5.8 kB)\n",
      "Downloading typing_inspection-0.4.0-py3-none-any.whl (14 kB)\n",
      "Installing collected packages: typing-inspection, python-multipart, graphviz, eval-type-backport, mistralai\n",
      "Successfully installed eval-type-backport-0.2.2 graphviz-0.20.3 mistralai-1.6.0 python-multipart-0.0.20 typing-inspection-0.4.0\n"
     ]
    }
   ],
   "source": [
    "!pip install -r requirements.txt"
   ]
  },
  {
   "cell_type": "code",
   "execution_count": 15,
   "id": "7d16ca88",
   "metadata": {},
   "outputs": [
    {
     "data": {
      "text/plain": [
       "True"
      ]
     },
     "execution_count": 15,
     "metadata": {},
     "output_type": "execute_result"
    }
   ],
   "source": [
    "from typing import Dict, Any\n",
    "from langchain_core.messages import HumanMessage, SystemMessage\n",
    "from langgraph.graph import StateGraph,START,END\n",
    "from langchain_aws import ChatBedrock, ChatBedrockConverse\n",
    "\n",
    "from pathlib import Path\n",
    "import base64\n",
    "from io import BytesIO\n",
    "from mistralai import Mistral\n",
    "from typing_extensions import TypedDict\n",
    "import os\n",
    "from dotenv import load_dotenv\n",
    "import boto3\n",
    "\n",
    "load_dotenv('env.txt')"
   ]
  },
  {
   "cell_type": "code",
   "execution_count": 16,
   "id": "b5477d0b",
   "metadata": {},
   "outputs": [],
   "source": [
    "mistral_client = Mistral(api_key=os.getenv(\"MISTRAL_API_KEY\"))\n",
    "bedrock_runtime_client = boto3.client(\"bedrock-runtime\", region_name='us-east-1')"
   ]
  },
  {
   "cell_type": "code",
   "execution_count": 17,
   "id": "1d9b6219",
   "metadata": {},
   "outputs": [],
   "source": [
    "# Initialize ai models\n",
    "summary_llm = ChatBedrockConverse(\n",
    "        client=bedrock_runtime_client,\n",
    "        model=\"amazon.nova-pro-v1:0\",\n",
    "        temperature=0.1,\n",
    "    )\n",
    "analyzer_llm = ChatBedrockConverse(\n",
    "        client=bedrock_runtime_client,\n",
    "        model=\"amazon.nova-pro-v1:0\",\n",
    "        temperature=0.1,\n",
    "    )"
   ]
  },
  {
   "cell_type": "code",
   "execution_count": 19,
   "id": "de7cbd7e",
   "metadata": {},
   "outputs": [],
   "source": [
    "def extracttpdf(pdf_name):\n",
    "    '''\n",
    "    Extract contents from invoice using Mistral OCR capablities\n",
    "    \n",
    "    '''\n",
    "    uploaded_pdf = mistral_client.files.upload(\n",
    "    file={\n",
    "        \"file_name\": \"pdf_name\",\n",
    "        \"content\": open(pdf_name, \"rb\"),\n",
    "    },\n",
    "    purpose=\"ocr\"\n",
    "    )\n",
    "    #\n",
    "    signed_url = mistral_client.files.get_signed_url(file_id=uploaded_pdf.id)\n",
    "    #\n",
    "    ocr_response = mistral_client.ocr.process(\n",
    "    model=\"mistral-ocr-latest\",\n",
    "    document={\n",
    "        \"type\": \"document_url\",\n",
    "        \"document_url\": signed_url.url,\n",
    "    }\n",
    "    )\n",
    "    #\n",
    "    text = \"\\n\\n\".join([page.markdown for page in ocr_response.pages])\n",
    "    return text"
   ]
  },
  {
   "cell_type": "code",
   "execution_count": 20,
   "id": "e30cc0f3",
   "metadata": {},
   "outputs": [
    {
     "data": {
      "text/plain": [
       "'# amazon.in \\n\\n## Tax Invoice/Bill of Supply/Cash Memo\\n\\n(Original for Recipient)\\n\\n## Sold By :\\n\\nAppario Retail Private Ltd\\nBuilding No. CCU1, Mouza, Amraberia,Phase 2: ESR Warehousing Pvt Ltd, Vill : Amraberia, Rajapur, Joargori Gram Panchayet, Uluberia, Dist. Howrah\\nHowrah, WEST BENGAL, 711303\\nIN\\n\\nPAN No: AALCA0171E\\nGST Registration No: 19AALCA0171E1ZW\\n\\n## Billing Address :\\n\\nSOUVIK HALDAR\\nDebigarh 2nd Lane\\nMadhyamgram, WEST BENGAL, 700129\\nIN\\nState/UT Code: 19\\n\\n## Shipping Address :\\n\\nSOUVIK HALDAR\\nSOUVIK HALDAR\\nDebigarh 2nd Lane\\nMadhyamgram, WEST BENGAL, 700129\\nIN\\nState/UT Code: 19\\nPlace of supply: WEST BENGAL\\nPlace of delivery: WEST BENGAL\\nInvoice Number : CCU1-4632921\\nOrder Date: 04.02.2022\\nInvoice Details : WB-CCU1-1034-2122\\nInvoice Date : 04.02.2022\\n\\n| $\\\\begin{aligned} & \\\\text { Si. } \\\\\\\\ & \\\\text { No } \\\\end{aligned}$ | Description | Unit Price | Qty | Net Amount | Tax Rate | Tax <br> Type | Tax Amount | Total Amount |\\n| :--: | :--: | :--: | :--: | :--: | :--: | :--: | :--: | :--: |\\n| 1 | Apple iPhone 13 (128GB) - (Product) RED | B09G99CW2N ( B09G99CW2N ) | $\\\\$ 63,474.58$ | 1 | $\\\\$ 63,474.58$ | $9 \\\\%$ | CGST | $\\\\begin{aligned} & \\\\$ 3,712.71 \\\\\\\\ & \\\\$ 3,712.71 \\\\end{aligned}$ |\\n|  | H5N:85171300 |  |  |  |  |  | $\\\\$ 11,425.42$ | $\\\\$ 74,900.00$ |\\n| TOTAL: |  |  |  |  |  |  | $\\\\$ 11,425.42$ | $\\\\$ 74,900.00$ |\\n\\nAmount in Words:\\nSeventy-four Thousand Nine Hundred only\\nFor Appario Retail Private Ltd:\\n\\n## Authorized Signatory\\n\\nWhether tax is payable under reverse charge - No\\n\\n| Payment Transaction ID: <br> 1111pTJZ5YipmUQYLGlOWSprZ | Date \\\\& Time: 04/02/2022, 10:15:39 hrs | Invoice Value: <br> 74,900.00 | Mode of Payment: <br> Promotion |\\n| :-- | :-- | :-- | :-- |\\n| Payment Transaction ID: 2g8zPAG19O2FAJz8X8GD | Date \\\\& Time: 04/02/2022, 10:15:30 <br> hrs |  |  |'"
      ]
     },
     "execution_count": 20,
     "metadata": {},
     "output_type": "execute_result"
    }
   ],
   "source": [
    "document_path= 'data/Iphoneinvoicev2.pdf'\n",
    "text = extracttpdf(document_path)\n",
    "text"
   ]
  },
  {
   "cell_type": "code",
   "execution_count": 21,
   "id": "cab391e5",
   "metadata": {},
   "outputs": [],
   "source": [
    "class InvoiceAnalysisState(TypedDict):\n",
    "    filename: str\n",
    "    context: str\n",
    "    analysis_result: str\n",
    "    validation_result:str\n",
    "    "
   ]
  },
  {
   "cell_type": "code",
   "execution_count": 22,
   "id": "ebb674be",
   "metadata": {},
   "outputs": [],
   "source": [
    "def create_invoice_analysis_chain():\n",
    "    '''\n",
    "    Chain includes following sequence\n",
    "    1. extract_context : text from extractpdf function which further uses Mistral OCR Capablities\n",
    "    2. analyze_document : analyze the invoice to extract fields as mentioned in prompt\n",
    "    3. validate_invoice: validate if the key fields are present from analyze document state, which makes a it a valid invoice\n",
    "    \n",
    "    Orchestrate all the above steps in sequence via LangGraph Framework\n",
    "    '''\n",
    "\n",
    "    def extract_context(state: InvoiceAnalysisState):\n",
    "        print(\"----------------------------------------------------\")\n",
    "        print(\"-----------Extracting context from PDF--------------\")\n",
    "        print(\"----------------------------------------------------\")\n",
    "        state['context'] = text\n",
    "        return state\n",
    "    \n",
    "    def analyze_document(state: InvoiceAnalysisState):\n",
    "        print(\"----------------------------------------------------\")\n",
    "        print(\"-----------Analyzing context from PDF--------------\")\n",
    "        print(\"----------------------------------------------------\")\n",
    "        messages = state['context']\n",
    "        document_content = messages\n",
    "        \n",
    "    # Use Amazon NovaPro for invoice analysis\n",
    "        messages = [\n",
    "            SystemMessage(content=\"\"\"You are a invoice document analyzer. Extract key information and format it in markdown with the following sections:\n",
    "\n",
    "                ### Seller Details\n",
    "                - Seller Name\n",
    "                - Seller Address\n",
    "        \n",
    "                ### Buyer Details\n",
    "                - Name of the buyer\n",
    "                - Buyer Address\n",
    "                - GST Number\n",
    "                - PAN Number\n",
    "                - State/UT Code\n",
    "\n",
    "                ### Order Details\n",
    "                  - Order Number\n",
    "                  - Order Date\n",
    "\n",
    "                ### Invoice Details\n",
    "                - Invoice Number \n",
    "                - Invoice Details\n",
    "                - Invoice Date\n",
    "                \n",
    "                ### Item Details\n",
    "                -  List of Items with Description and Price without and with tax\n",
    "                -  Total Amount\n",
    "                \n",
    "                ## Signature Details( Provide Yes if signed, else No)\n",
    "                - Is it signed ? \n",
    "\n",
    "                ### Payment Details\n",
    "                - List of Transaction Ids\n",
    "                - List of Timestamp for transactio\n",
    "                - Mode of Payment\n",
    "                - Invoice Value\n",
    "                Please ensure the response is well-formatted in markdown with appropriate headers and bullet points.\"\"\"),\n",
    "            HumanMessage(content=document_content)\n",
    "        ]\n",
    "        response = analyzer_llm.invoke(messages)\n",
    "        \n",
    "        state[\"analysis_result\"] = response.content.split(\"</think>\")[-1]\n",
    "        return state\n",
    "\n",
    "\n",
    "    def validate_invoice(state:InvoiceAnalysisState):\n",
    "        print(\"----------------------------------------------------\")\n",
    "        print(\"------------Validating invoice from PDF-----------\")\n",
    "        print(\"----------------------------------------------------\")\n",
    "        analysis_result = state[\"analysis_result\"]\n",
    "        \n",
    "        messages = [\n",
    "            SystemMessage(content=\"\"\"You are a invoice  validator. Provide your assessment in markdown format with these sections:\n",
    "\n",
    "                ### Invoice Analysis\n",
    "                - Check if there is invoice number in invoice\n",
    "                - Check if there is Seller/ Billing Details\n",
    "                - Evaluate if there GST Number/PAN Number in invoice\n",
    "                - Table exists with item details and total amount\n",
    "                - Check if payment details exist along with transaction id with invoice value\n",
    "\n",
    "                Please format your response in clear markdown with appropriate headers and bullet points.\"\"\"),\n",
    "            HumanMessage(content=f\"\"\"Analysis: {analysis_result}\n",
    "                         Based on the Analysis  provided please provide whether given invoice is a valid.\n",
    "                         If not mention its not valid invoice, and also mention what details are missing from the invoice.\n",
    "                         \"\"\")\n",
    "        ]\n",
    "        response = analyzer_llm.invoke(messages)\n",
    "        \n",
    "        state[\"validation_result\"] = response.content.split(\"</think>\")[-1]\n",
    "        return state\n",
    "    \n",
    "    workflow = StateGraph(InvoiceAnalysisState)\n",
    "\n",
    "    # Add nodes\n",
    "    workflow.add_node(\"extractor\", extract_context)\n",
    "    workflow.add_node(\"analyzer\", analyze_document)\n",
    "    workflow.add_node(\"validator\", validate_invoice)\n",
    "\n",
    "    # Define edges\n",
    "    workflow.add_edge(START, \"extractor\")\n",
    "    workflow.add_edge(\"extractor\", \"analyzer\")  \n",
    "    workflow.add_edge(\"analyzer\", \"validator\")\n",
    "    workflow.add_edge(\"validator\", END)\n",
    "\n",
    "\n",
    "    # Compile the graph\n",
    "    chain = workflow.compile()\n",
    "    \n",
    "    # Generate graph visualization\n",
    "    graph_png = chain.get_graph().draw_mermaid_png()\n",
    "    graph_base64 = base64.b64encode(graph_png).decode('utf-8')\n",
    "    \n",
    "    return chain, graph_base64\n",
    "    "
   ]
  },
  {
   "cell_type": "code",
   "execution_count": 23,
   "id": "865ece74",
   "metadata": {},
   "outputs": [],
   "source": [
    "chain, graph_viz = create_invoice_analysis_chain()"
   ]
  },
  {
   "cell_type": "code",
   "execution_count": 24,
   "id": "48fce65e",
   "metadata": {},
   "outputs": [
    {
     "data": {
      "image/png": "[encoded data removed]",
      "text/plain": [
       "<langgraph.graph.state.CompiledStateGraph object at 0x7f39441edfa0>"
      ]
     },
     "execution_count": 24,
     "metadata": {},
     "output_type": "execute_result"
    }
   ],
   "source": [
    "chain"
   ]
  },
  {
   "cell_type": "code",
   "execution_count": 26,
   "id": "7b32be75",
   "metadata": {},
   "outputs": [
    {
     "name": "stdout",
     "output_type": "stream",
     "text": [
      "----------------------------------------------------\n",
      "-----------Extracting context from PDF--------------\n",
      "----------------------------------------------------\n",
      "----------------------------------------------------\n",
      "-----------Analyzing context from PDF--------------\n",
      "----------------------------------------------------\n",
      "----------------------------------------------------\n",
      "------------Validating invoice from PDF-----------\n",
      "----------------------------------------------------\n"
     ]
    }
   ],
   "source": [
    "document_path= 'data/Iphoneinvoicev2.pdf'\n",
    "result = chain.invoke({\"filename\": document_path})"
   ]
  },
  {
   "cell_type": "code",
   "execution_count": 28,
   "id": "bdf890e6",
   "metadata": {},
   "outputs": [
    {
     "data": {
      "text/plain": [
       "'### Seller Details\\n- Seller Name: Appario Retail Private Ltd\\n- Seller Address: Building No. CCU1, Mouza, Amraberia, Phase 2: ESR Warehousing Pvt Ltd, Vill: Amraberia, Rajapur, Joargori Gram Panchayet, Uluberia, Dist. Howrah, Howrah, WEST BENGAL, 711303, IN\\n\\n### Buyer Details\\n- Name of the buyer: SOUVIK HALDAR\\n- Buyer Address: Debigarh 2nd Lane, Madhyamgram, WEST BENGAL, 700129, IN\\n- GST Number: 19AALCA0171E1ZW\\n- PAN Number: AALCA0171E\\n- State/UT Code: 19\\n\\n### Order Details\\n- Order Number: CCU1-4632921\\n- Order Date: 04.02.2022\\n\\n### Invoice Details\\n- Invoice Number: CCU1-4632921\\n- Invoice Details: WB-CCU1-1034-2122\\n- Invoice Date: 04.02.2022\\n\\n### Item Details\\n- List of Items with Description and Price without and with tax:\\n  - Description: Apple iPhone 13 (128GB) - (Product) RED\\n  - Unit Price: $63,474.58\\n  - Quantity: 1\\n  - Net Amount: $63,474.58\\n  - Tax Rate: 9%\\n  - Tax Type: CGST\\n  - Tax Amount: $3,712.71 (CGST) + $3,712.71 (SGST) = $7,425.42\\n  - Total Amount: $74,900.00\\n- Total Amount: $74,900.00\\n\\n### Signature Details\\n- Is it signed?: Yes\\n\\n### Payment Details\\n- List of Transaction IDs:\\n  - 1111pTJZ5YipmUQYLGlOWSprZ\\n  - 2g8zPAG19O2FAJz8X8GD\\n- List of Timestamps for transactions:\\n  - 04/02/2022, 10:15:39 hrs\\n  - 04/02/2022, 10:15:30 hrs\\n- Mode of Payment: Promotion\\n- Invoice Value: $74,900.00'"
      ]
     },
     "execution_count": 28,
     "metadata": {},
     "output_type": "execute_result"
    }
   ],
   "source": [
    "result['analysis_result']"
   ]
  },
  {
   "cell_type": "code",
   "execution_count": 29,
   "id": "9b4ae1b4",
   "metadata": {},
   "outputs": [
    {
     "data": {
      "text/plain": [
       "'### Invoice Analysis\\n\\n- **Invoice Number**: Present. The invoice number is `CCU1-4632921`.\\n- **Seller/Billing Details**: Present. The seller details include:\\n  - Seller Name: Appario Retail Private Ltd\\n  - Seller Address: Building No. CCU1, Mouza, Amraberia, Phase 2: ESR Warehousing Pvt Ltd, Vill: Amraberia, Rajapur, Joargori Gram Panchayet, Uluberia, Dist. Howrah, Howrah, WEST BENGAL, 711303, IN\\n- **GST Number/PAN Number**: Present. The buyer’s GST Number is `19AALCA0171E1ZW` and PAN Number is `AALCA0171E`.\\n- **Table with Item Details and Total Amount**: Present. The item details include:\\n  - Description: Apple iPhone 13 (128GB) - (Product) RED\\n  - Unit Price: $63,474.58\\n  - Quantity: 1\\n  - Net Amount: $63,474.58\\n  - Tax Rate: 9%\\n  - Tax Type: CGST\\n  - Tax Amount: $3,712.71 (CGST) + $3,712.71 (SGST) = $7,425.42\\n  - Total Amount: $74,900.00\\n- **Payment Details**: Present. The payment details include:\\n  - Transaction IDs: `1111pTJZ5YipmUQYLGlOWSprZ`, `2g8zPAG19O2FAJz8X8GD`\\n  - Timestamps for transactions: `04/02/2022, 10:15:39 hrs`, `04/02/2022, 10:15:30 hrs`\\n  - Mode of Payment: Promotion\\n  - Invoice Value: $74,900.00\\n\\n### Conclusion\\n- **Validity**: The invoice appears to be valid as all required details are present:\\n  - Invoice number\\n  - Seller/billing details\\n  - GST Number/PAN Number\\n  - Table with item details and total amount\\n  - Payment details with transaction IDs and invoice value'"
      ]
     },
     "execution_count": 29,
     "metadata": {},
     "output_type": "execute_result"
    }
   ],
   "source": [
    "result['validation_result']"
   ]
  }
 ],
 "metadata": {
  "kernelspec": {
   "display_name": "conda_persona_identifier",
   "language": "python",
   "name": "conda_persona_identifier"
  },
  "language_info": {
   "codemirror_mode": {
    "name": "ipython",
    "version": 3
   },
   "file_extension": ".py",
   "mimetype": "text/x-python",
   "name": "python",
   "nbconvert_exporter": "python",
   "pygments_lexer": "ipython3",
   "version": "3.9.17"
  }
 },
 "nbformat": 4,
 "nbformat_minor": 5
}
